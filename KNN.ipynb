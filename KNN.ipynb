{
  "nbformat": 4,
  "nbformat_minor": 0,
  "metadata": {
    "colab": {
      "name": "KNN.ipynb",
      "provenance": [],
      "collapsed_sections": [],
      "authorship_tag": "ABX9TyOsr14IEZRxApK4V0UxIrHS",
      "include_colab_link": true
    },
    "kernelspec": {
      "name": "python3",
      "display_name": "Python 3"
    }
  },
  "cells": [
    {
      "cell_type": "markdown",
      "metadata": {
        "id": "view-in-github",
        "colab_type": "text"
      },
      "source": [
        "<a href=\"https://colab.research.google.com/github/mchangol/MachineLearning_KNN/blob/master/KNN.ipynb\" target=\"_parent\"><img src=\"https://colab.research.google.com/assets/colab-badge.svg\" alt=\"Open In Colab\"/></a>"
      ]
    },
    {
      "cell_type": "code",
      "metadata": {
        "id": "-K5ZlsCvVo7V",
        "colab_type": "code",
        "colab": {}
      },
      "source": [
        "from sklearn import datasets"
      ],
      "execution_count": 0,
      "outputs": []
    },
    {
      "cell_type": "code",
      "metadata": {
        "id": "OAA0B3DBVsy7",
        "colab_type": "code",
        "colab": {}
      },
      "source": [
        "import numpy as np\n",
        "import pandas as pd"
      ],
      "execution_count": 0,
      "outputs": []
    },
    {
      "cell_type": "code",
      "metadata": {
        "id": "iAhyfYt8WBrN",
        "colab_type": "code",
        "colab": {}
      },
      "source": [
        "iris = datasets.load_iris()"
      ],
      "execution_count": 0,
      "outputs": []
    },
    {
      "cell_type": "code",
      "metadata": {
        "id": "Io6RtRi_XBYx",
        "colab_type": "code",
        "colab": {}
      },
      "source": [
        "data1 = pd.DataFrame(data= np.c_[iris['data'], iris['target']],\n",
        "                     columns= iris['feature_names'] + ['target'])"
      ],
      "execution_count": 0,
      "outputs": []
    },
    {
      "cell_type": "code",
      "metadata": {
        "id": "yhxYAr1KdMUH",
        "colab_type": "code",
        "colab": {}
      },
      "source": [
        "target_data = data1[\"target\"]"
      ],
      "execution_count": 0,
      "outputs": []
    },
    {
      "cell_type": "markdown",
      "metadata": {
        "id": "Z2zmWysd6UC_",
        "colab_type": "text"
      },
      "source": [
        "## MIN-MAX Scalling"
      ]
    },
    {
      "cell_type": "code",
      "metadata": {
        "id": "MPb463R8qz8o",
        "colab_type": "code",
        "colab": {}
      },
      "source": [
        "X_s = np.array([])\n",
        "xmax = data1.max(axis = 0)\n",
        "xmin = data1.min(axis = 0)\n",
        "col_len = len(data1.columns)-1\n",
        "row_len = len(data1[data1.columns[0]])\n",
        "for i in range(col_len):\n",
        "  x_min = xmin[i]\n",
        "  x_max = xmax[i]\n",
        "  for j in range(0, row_len):\n",
        "    X_s = np.append(X_s,(data1[data1.columns[i]][j] - x_min)/(x_max - x_min))\n",
        "    "
      ],
      "execution_count": 0,
      "outputs": []
    },
    {
      "cell_type": "code",
      "metadata": {
        "id": "h6I03UsP6vEu",
        "colab_type": "code",
        "colab": {}
      },
      "source": [
        "scall = np.array_split(X_s, 4)"
      ],
      "execution_count": 0,
      "outputs": []
    },
    {
      "cell_type": "code",
      "metadata": {
        "id": "dlKXtbl08dPc",
        "colab_type": "code",
        "outputId": "72500a51-81d2-45eb-81c7-fcf6929ac9b3",
        "colab": {
          "base_uri": "https://localhost:8080/",
          "height": 424
        }
      },
      "source": [
        "normilized_data = pd.DataFrame(scall).T\n",
        "normilized_data = normilized_data.rename(columns = {0:\"sepal length (cm)\", 1:\"sepal width (cm)\", 2:\"petal length (cm)\",3:\"petal width (cm)\" })\n",
        "normilized_data['target'] = data1.target\n",
        "normilized_data"
      ],
      "execution_count": 8,
      "outputs": [
        {
          "output_type": "execute_result",
          "data": {
            "text/html": [
              "<div>\n",
              "<style scoped>\n",
              "    .dataframe tbody tr th:only-of-type {\n",
              "        vertical-align: middle;\n",
              "    }\n",
              "\n",
              "    .dataframe tbody tr th {\n",
              "        vertical-align: top;\n",
              "    }\n",
              "\n",
              "    .dataframe thead th {\n",
              "        text-align: right;\n",
              "    }\n",
              "</style>\n",
              "<table border=\"1\" class=\"dataframe\">\n",
              "  <thead>\n",
              "    <tr style=\"text-align: right;\">\n",
              "      <th></th>\n",
              "      <th>sepal length (cm)</th>\n",
              "      <th>sepal width (cm)</th>\n",
              "      <th>petal length (cm)</th>\n",
              "      <th>petal width (cm)</th>\n",
              "      <th>target</th>\n",
              "    </tr>\n",
              "  </thead>\n",
              "  <tbody>\n",
              "    <tr>\n",
              "      <th>0</th>\n",
              "      <td>0.222222</td>\n",
              "      <td>0.625000</td>\n",
              "      <td>0.067797</td>\n",
              "      <td>0.041667</td>\n",
              "      <td>0.0</td>\n",
              "    </tr>\n",
              "    <tr>\n",
              "      <th>1</th>\n",
              "      <td>0.166667</td>\n",
              "      <td>0.416667</td>\n",
              "      <td>0.067797</td>\n",
              "      <td>0.041667</td>\n",
              "      <td>0.0</td>\n",
              "    </tr>\n",
              "    <tr>\n",
              "      <th>2</th>\n",
              "      <td>0.111111</td>\n",
              "      <td>0.500000</td>\n",
              "      <td>0.050847</td>\n",
              "      <td>0.041667</td>\n",
              "      <td>0.0</td>\n",
              "    </tr>\n",
              "    <tr>\n",
              "      <th>3</th>\n",
              "      <td>0.083333</td>\n",
              "      <td>0.458333</td>\n",
              "      <td>0.084746</td>\n",
              "      <td>0.041667</td>\n",
              "      <td>0.0</td>\n",
              "    </tr>\n",
              "    <tr>\n",
              "      <th>4</th>\n",
              "      <td>0.194444</td>\n",
              "      <td>0.666667</td>\n",
              "      <td>0.067797</td>\n",
              "      <td>0.041667</td>\n",
              "      <td>0.0</td>\n",
              "    </tr>\n",
              "    <tr>\n",
              "      <th>...</th>\n",
              "      <td>...</td>\n",
              "      <td>...</td>\n",
              "      <td>...</td>\n",
              "      <td>...</td>\n",
              "      <td>...</td>\n",
              "    </tr>\n",
              "    <tr>\n",
              "      <th>145</th>\n",
              "      <td>0.666667</td>\n",
              "      <td>0.416667</td>\n",
              "      <td>0.711864</td>\n",
              "      <td>0.916667</td>\n",
              "      <td>2.0</td>\n",
              "    </tr>\n",
              "    <tr>\n",
              "      <th>146</th>\n",
              "      <td>0.555556</td>\n",
              "      <td>0.208333</td>\n",
              "      <td>0.677966</td>\n",
              "      <td>0.750000</td>\n",
              "      <td>2.0</td>\n",
              "    </tr>\n",
              "    <tr>\n",
              "      <th>147</th>\n",
              "      <td>0.611111</td>\n",
              "      <td>0.416667</td>\n",
              "      <td>0.711864</td>\n",
              "      <td>0.791667</td>\n",
              "      <td>2.0</td>\n",
              "    </tr>\n",
              "    <tr>\n",
              "      <th>148</th>\n",
              "      <td>0.527778</td>\n",
              "      <td>0.583333</td>\n",
              "      <td>0.745763</td>\n",
              "      <td>0.916667</td>\n",
              "      <td>2.0</td>\n",
              "    </tr>\n",
              "    <tr>\n",
              "      <th>149</th>\n",
              "      <td>0.444444</td>\n",
              "      <td>0.416667</td>\n",
              "      <td>0.694915</td>\n",
              "      <td>0.708333</td>\n",
              "      <td>2.0</td>\n",
              "    </tr>\n",
              "  </tbody>\n",
              "</table>\n",
              "<p>150 rows × 5 columns</p>\n",
              "</div>"
            ],
            "text/plain": [
              "     sepal length (cm)  sepal width (cm)  ...  petal width (cm)  target\n",
              "0             0.222222          0.625000  ...          0.041667     0.0\n",
              "1             0.166667          0.416667  ...          0.041667     0.0\n",
              "2             0.111111          0.500000  ...          0.041667     0.0\n",
              "3             0.083333          0.458333  ...          0.041667     0.0\n",
              "4             0.194444          0.666667  ...          0.041667     0.0\n",
              "..                 ...               ...  ...               ...     ...\n",
              "145           0.666667          0.416667  ...          0.916667     2.0\n",
              "146           0.555556          0.208333  ...          0.750000     2.0\n",
              "147           0.611111          0.416667  ...          0.791667     2.0\n",
              "148           0.527778          0.583333  ...          0.916667     2.0\n",
              "149           0.444444          0.416667  ...          0.708333     2.0\n",
              "\n",
              "[150 rows x 5 columns]"
            ]
          },
          "metadata": {
            "tags": []
          },
          "execution_count": 8
        }
      ]
    },
    {
      "cell_type": "markdown",
      "metadata": {
        "id": "UotoqO3qYJdC",
        "colab_type": "text"
      },
      "source": [
        "\n",
        "### Split Data"
      ]
    },
    {
      "cell_type": "markdown",
      "metadata": {
        "id": "j7LqqgFo-gMt",
        "colab_type": "text"
      },
      "source": [
        "### YOU CAN CHANGE THE RANDOMNESS OF SPLIITING THE DATA BY CHANGING \"random_state\""
      ]
    },
    {
      "cell_type": "code",
      "metadata": {
        "id": "7yw7dktxVsGC",
        "colab_type": "code",
        "colab": {}
      },
      "source": [
        "from sklearn.model_selection import train_test_split\n",
        "_train,_test = train_test_split(normilized_data, test_size=0.3 , random_state = 20) # 70% training and 30% test\n"
      ],
      "execution_count": 0,
      "outputs": []
    },
    {
      "cell_type": "code",
      "metadata": {
        "id": "mRDS5Jq_Lka0",
        "colab_type": "code",
        "outputId": "defc6a42-6800-4aa2-f99c-656d863ccf36",
        "colab": {
          "base_uri": "https://localhost:8080/",
          "height": 182
        }
      },
      "source": [
        "#here is the code to test the rank \n",
        "print(len(_train))\n",
        "print(_train.head())"
      ],
      "execution_count": 10,
      "outputs": [
        {
          "output_type": "stream",
          "text": [
            "105\n",
            "     sepal length (cm)  sepal width (cm)  ...  petal width (cm)  target\n",
            "2             0.111111          0.500000  ...          0.041667     0.0\n",
            "5             0.305556          0.791667  ...          0.125000     0.0\n",
            "49            0.194444          0.541667  ...          0.041667     0.0\n",
            "113           0.388889          0.208333  ...          0.791667     2.0\n",
            "44            0.222222          0.750000  ...          0.125000     0.0\n",
            "\n",
            "[5 rows x 5 columns]\n"
          ],
          "name": "stdout"
        }
      ]
    },
    {
      "cell_type": "code",
      "metadata": {
        "id": "-KxQfPylMVJa",
        "colab_type": "code",
        "outputId": "3201d11e-9d98-4a9d-e8f9-cb64c9477594",
        "colab": {
          "base_uri": "https://localhost:8080/",
          "height": 182
        }
      },
      "source": [
        "print(len(_test))\n",
        "print(_test.head())"
      ],
      "execution_count": 11,
      "outputs": [
        {
          "output_type": "stream",
          "text": [
            "45\n",
            "     sepal length (cm)  sepal width (cm)  ...  petal width (cm)  target\n",
            "47            0.083333          0.500000  ...          0.041667     0.0\n",
            "73            0.500000          0.333333  ...          0.458333     1.0\n",
            "74            0.583333          0.375000  ...          0.500000     1.0\n",
            "129           0.805556          0.416667  ...          0.625000     2.0\n",
            "67            0.416667          0.291667  ...          0.375000     1.0\n",
            "\n",
            "[5 rows x 5 columns]\n"
          ],
          "name": "stdout"
        }
      ]
    },
    {
      "cell_type": "markdown",
      "metadata": {
        "id": "Nj_emPeB-PNn",
        "colab_type": "text"
      },
      "source": [
        "###  Distance Function "
      ]
    },
    {
      "cell_type": "code",
      "metadata": {
        "id": "E1yw54ucgLbK",
        "colab_type": "code",
        "colab": {}
      },
      "source": [
        "distance = np.array([])\n",
        "dist = 0\n",
        "test_len = len(_test)\n",
        "train_len = len(_train)\n",
        "for i in range(test_len):\n",
        "  for k in range(train_len):\n",
        "    #dis = _test.iloc[i][j]\n",
        "    for j in range(4):\n",
        "      dist += pow((_test.iloc[i][j] - _train.iloc[k][j]),2)\n",
        "    #print(np.sqrt(dist))\n",
        "    distance = np.append(distance,np.sqrt(dist))\n",
        "    dist = 0"
      ],
      "execution_count": 0,
      "outputs": []
    },
    {
      "cell_type": "code",
      "metadata": {
        "id": "_m1V15Dkqt5S",
        "colab_type": "code",
        "colab": {}
      },
      "source": [
        "test_row_dist = np.array_split(distance, 45)"
      ],
      "execution_count": 0,
      "outputs": []
    },
    {
      "cell_type": "code",
      "metadata": {
        "id": "2BQgsqzfIIy5",
        "colab_type": "code",
        "colab": {}
      },
      "source": [
        "total_dist = pd.DataFrame(test_row_dist)"
      ],
      "execution_count": 0,
      "outputs": []
    },
    {
      "cell_type": "markdown",
      "metadata": {
        "id": "r7u7Nuyn2YFq",
        "colab_type": "text"
      },
      "source": [
        "## Search k Nearest Distances"
      ]
    },
    {
      "cell_type": "code",
      "metadata": {
        "id": "fScyXDpM2lKJ",
        "colab_type": "code",
        "outputId": "a6da731c-dcc9-4173-db2d-9fe7cadebf15",
        "colab": {
          "base_uri": "https://localhost:8080/",
          "height": 35
        }
      },
      "source": [
        "# Function to print k smallest distances    \n",
        "def k_smallest_distances(arr, arr_size, k): \n",
        "  \n",
        "    # There should be atleast k distances \n",
        "    if (arr_size < k): \n",
        "      print(\" Invalid Input \")\n",
        "      return\n",
        "\n",
        "    if (k == 3):\n",
        "      third = first = second = 10000\n",
        "\n",
        "      for i in range(arr_size): \n",
        "        # If first distance is greater than current element \n",
        "        if (first > arr[i]): \n",
        "            third = second \n",
        "            second = first \n",
        "            first = arr[i] \n",
        "\n",
        "        # If arr[i] is in between first and second then update second  \n",
        "        elif (second > arr[i]): \n",
        "            third = second \n",
        "            second = arr[i] \n",
        "        elif (third > arr[i]): \n",
        "            third = arr[i] \n",
        "      \n",
        "    #print(\"K = 3, The three smallest distances are: \", first, second, third) \n",
        "      return arr.index(first), arr.index(second), arr.index(third) \n",
        "    elif(k == 5):\n",
        "\n",
        "      fifth = forth = third = first = second = 10000\n",
        "\n",
        "      for i in range(arr_size): \n",
        "        # If first distance is greater than current element \n",
        "        if (first > arr[i]): \n",
        "            fifth = forth\n",
        "            forth = third\n",
        "            third = second \n",
        "            second = first \n",
        "            first = arr[i] \n",
        "\n",
        "        # If arr[i] is in between first and second then update second  \n",
        "        elif (second > arr[i]):\n",
        "            fifth = forth\n",
        "            forth = third \n",
        "            third = second \n",
        "            second = arr[i] \n",
        "        elif (third > arr[i]): \n",
        "            fifth = forth\n",
        "            forth = third\n",
        "            third = arr[i] \n",
        "        elif (forth > arr[i]): \n",
        "            fifth = forth\n",
        "            forth = arr[i]\n",
        "        elif (fifth > arr[i]): \n",
        "            fifth = arr[i]\n",
        "         \n",
        "      \n",
        "    #print(\"K = 3, The three smallest distances are: \", first, second, third) \n",
        "      return arr.index(first), arr.index(second), arr.index(third), arr.index(forth),arr.index(fifth)\n",
        "      \n",
        "\n",
        "  \n",
        "# Driver program to test above function  \n",
        "arr = [12, 13, 1, 10, 34, 2] \n",
        "n = len(arr) \n",
        "k = 5\n",
        "k_smallest_distances(arr, n, k) \n",
        "  \n",
        "print((k_smallest_distances(arr, n, k)))"
      ],
      "execution_count": 15,
      "outputs": [
        {
          "output_type": "stream",
          "text": [
            "(2, 5, 3, 0, 1)\n"
          ],
          "name": "stdout"
        }
      ]
    },
    {
      "cell_type": "markdown",
      "metadata": {
        "id": "MbPeIjN1P3Ph",
        "colab_type": "text"
      },
      "source": [
        "## Find all distances "
      ]
    },
    {
      "cell_type": "markdown",
      "metadata": {
        "id": "EXam-EyV4JVs",
        "colab_type": "text"
      },
      "source": [
        " ## you can choose k = 3 "
      ]
    },
    {
      "cell_type": "code",
      "metadata": {
        "id": "IebOPbFry4P0",
        "colab_type": "code",
        "outputId": "fe265549-3f6d-4a7e-b40d-34db67a662b5",
        "colab": {
          "base_uri": "https://localhost:8080/",
          "height": 201
        }
      },
      "source": [
        "d = np.array([])\n",
        "for i in range(len(test_row_dist)):\n",
        "   arr = list(test_row_dist[i])\n",
        "   n = len(arr)\n",
        "   k = 3\n",
        "   k_smallest_distances(arr, n, k)\n",
        "   for i in range(k):\n",
        "     d = np.append(d,k_smallest_distances(arr, n, k)[i] )\n",
        "\n",
        "print(d)\n",
        "\n",
        "  "
      ],
      "execution_count": 16,
      "outputs": [
        {
          "output_type": "stream",
          "text": [
            "[  0.  66.  78.  63.  15.  28.  15. 101.  99.  67.  82.  51.  41.  16.\n",
            "  71.  27.  17.  70.  75.  73.  72.  29.   4.  76.  80.  39.  38.  24.\n",
            "  33.  89.  85.  42.  46.  19. 101.  18.  22.  23.  86.   2.  24.   0.\n",
            "  13.  47.  92.  94.  98.  82.  25.  45.  56. 101.  19.  15.  37.   5.\n",
            "   3.  59.  34.  14.  51.  18. 101.  35.  57.  52.  54.  80.  39.  47.\n",
            "  32.   7.  86.  22.  23.  14.  17.  71.  59.  14.  71.  33.  24.  89.\n",
            "   5.  39.  46.  19.  86.  63.  20. 104.  10.  20. 104.  10.  47.  76.\n",
            "  13.  29.  30.  48.  61.  92.  91.  69.  26.  27.  52.  87.  28.  89.\n",
            "  65.  33.  18. 101.  28.  82.  40.  94.  20. 104.  55.  86.  63.  38.\n",
            "  48.  97.  92. 101.  18.  51.  18.  52.  28.]\n"
          ],
          "name": "stdout"
        }
      ]
    },
    {
      "cell_type": "markdown",
      "metadata": {
        "id": "GvbqkAXx8jPu",
        "colab_type": "text"
      },
      "source": [
        "## or you can choose  k = 5. you only neeed to comment k = 3 and uncomment k = 5"
      ]
    },
    {
      "cell_type": "code",
      "metadata": {
        "id": "dZDXVYNv1u03",
        "colab_type": "code",
        "colab": {
          "base_uri": "https://localhost:8080/",
          "height": 55
        },
        "outputId": "0281828b-1345-4368-a977-89c140b20e0c"
      },
      "source": [
        "'''d = np.array([])\n",
        "for i in range(len(test_row_dist)):\n",
        "   arr = list(test_row_dist[i])\n",
        "   n = len(arr)\n",
        "   k = 5\n",
        "   k_smallest_distances(arr, n, k)\n",
        "   for i in range(k):\n",
        "     d = np.append(d,k_smallest_distances(arr, n, k)[i] )\n",
        "\n",
        "print(d)\n",
        "'''"
      ],
      "execution_count": 17,
      "outputs": [
        {
          "output_type": "execute_result",
          "data": {
            "text/plain": [
              "'d = np.array([])\\nfor i in range(len(test_row_dist)):\\n   arr = list(test_row_dist[i])\\n   n = len(arr)\\n   k = 5\\n   k_smallest_distances(arr, n, k)\\n   for i in range(k):\\n     d = np.append(d,k_smallest_distances(arr, n, k)[i] )\\n\\nprint(d)\\n'"
            ]
          },
          "metadata": {
            "tags": []
          },
          "execution_count": 17
        }
      ]
    },
    {
      "cell_type": "code",
      "metadata": {
        "id": "lQeGvpBC3dZw",
        "colab_type": "code",
        "outputId": "f9ff5a87-63bb-4d40-b6d5-a79ae04030f8",
        "colab": {
          "base_uri": "https://localhost:8080/",
          "height": 35
        }
      },
      "source": [
        "print(len(d))\n",
        "k_d = np.array_split(d, len(test_row_dist))\n",
        "t_k = pd.DataFrame(k_d).T\n"
      ],
      "execution_count": 18,
      "outputs": [
        {
          "output_type": "stream",
          "text": [
            "135\n"
          ],
          "name": "stdout"
        }
      ]
    },
    {
      "cell_type": "markdown",
      "metadata": {
        "id": "7uKxE10R9KWu",
        "colab_type": "text"
      },
      "source": [
        "## Rank k smallest diatance and compared predicted values with ground true values"
      ]
    },
    {
      "cell_type": "code",
      "metadata": {
        "id": "jtZyXEhJ6jCL",
        "colab_type": "code",
        "outputId": "2a206439-75de-4454-9695-e046245b4ebc",
        "colab": {
          "base_uri": "https://localhost:8080/",
          "height": 1000
        }
      },
      "source": [
        "repeted_num_train = np.array([])\n",
        "\n",
        "for col in range(45):\n",
        "  for row in range(k):\n",
        "    a = t_k[col][row]\n",
        "    c = a.astype(int)\n",
        "    repeted_num_train = np.append(repeted_num_train, _train.iloc[c][4])\n",
        "\n",
        "k_num = np.array_split(repeted_num_train, len(test_row_dist))\n",
        "\n",
        "count = 0\n",
        "num_k = pd.DataFrame(k_num).T\n",
        "\n",
        "for i in range(45):\n",
        "  print(num_k[i].mode()[0])\n",
        "  a = num_k[i].mode()[0]\n",
        "  if(a == _test.iloc[i][4]):\n",
        "    print(\"Correct: Predicted is the same ground true\")\n",
        "    count += 1 \n",
        "  else:\n",
        "    print(\"Incorrect: Ground true differs from predicted \")\n",
        "  \n",
        "print(\"The acccuracy is: \" , (count/45)*100 , \"when k  = \" , k)"
      ],
      "execution_count": 19,
      "outputs": [
        {
          "output_type": "stream",
          "text": [
            "0.0\n",
            "Correct: Predicted is the same ground true\n",
            "1.0\n",
            "Correct: Predicted is the same ground true\n",
            "1.0\n",
            "Correct: Predicted is the same ground true\n",
            "2.0\n",
            "Correct: Predicted is the same ground true\n",
            "1.0\n",
            "Correct: Predicted is the same ground true\n",
            "1.0\n",
            "Correct: Predicted is the same ground true\n",
            "2.0\n",
            "Correct: Predicted is the same ground true\n",
            "0.0\n",
            "Correct: Predicted is the same ground true\n",
            "2.0\n",
            "Correct: Predicted is the same ground true\n",
            "0.0\n",
            "Correct: Predicted is the same ground true\n",
            "2.0\n",
            "Correct: Predicted is the same ground true\n",
            "1.0\n",
            "Correct: Predicted is the same ground true\n",
            "1.0\n",
            "Incorrect: Ground true differs from predicted \n",
            "0.0\n",
            "Correct: Predicted is the same ground true\n",
            "0.0\n",
            "Correct: Predicted is the same ground true\n",
            "2.0\n",
            "Correct: Predicted is the same ground true\n",
            "0.0\n",
            "Correct: Predicted is the same ground true\n",
            "1.0\n",
            "Correct: Predicted is the same ground true\n",
            "2.0\n",
            "Correct: Predicted is the same ground true\n",
            "1.0\n",
            "Correct: Predicted is the same ground true\n",
            "1.0\n",
            "Correct: Predicted is the same ground true\n",
            "2.0\n",
            "Correct: Predicted is the same ground true\n",
            "2.0\n",
            "Correct: Predicted is the same ground true\n",
            "0.0\n",
            "Correct: Predicted is the same ground true\n",
            "1.0\n",
            "Correct: Predicted is the same ground true\n",
            "1.0\n",
            "Correct: Predicted is the same ground true\n",
            "1.0\n",
            "Correct: Predicted is the same ground true\n",
            "0.0\n",
            "Correct: Predicted is the same ground true\n",
            "2.0\n",
            "Correct: Predicted is the same ground true\n",
            "1.0\n",
            "Incorrect: Ground true differs from predicted \n",
            "1.0\n",
            "Correct: Predicted is the same ground true\n",
            "1.0\n",
            "Correct: Predicted is the same ground true\n",
            "0.0\n",
            "Correct: Predicted is the same ground true\n",
            "0.0\n",
            "Correct: Predicted is the same ground true\n",
            "0.0\n",
            "Correct: Predicted is the same ground true\n",
            "1.0\n",
            "Incorrect: Ground true differs from predicted \n",
            "1.0\n",
            "Correct: Predicted is the same ground true\n",
            "0.0\n",
            "Correct: Predicted is the same ground true\n",
            "1.0\n",
            "Correct: Predicted is the same ground true\n",
            "2.0\n",
            "Correct: Predicted is the same ground true\n",
            "1.0\n",
            "Correct: Predicted is the same ground true\n",
            "1.0\n",
            "Incorrect: Ground true differs from predicted \n",
            "0.0\n",
            "Correct: Predicted is the same ground true\n",
            "1.0\n",
            "Correct: Predicted is the same ground true\n",
            "1.0\n",
            "Correct: Predicted is the same ground true\n",
            "The acccuracy is:  91.11111111111111 when k  =  3\n"
          ],
          "name": "stdout"
        }
      ]
    }
  ]
}